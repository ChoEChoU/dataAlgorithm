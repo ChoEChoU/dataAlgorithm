{
 "cells": [
  {
   "cell_type": "code",
   "execution_count": 31,
   "metadata": {},
   "outputs": [],
   "source": [
    "def mergeSort(A):\n",
    "    left = []\n",
    "    right = []\n",
    "    if len(A) <= 1:\n",
    "        return A\n",
    "    else:\n",
    "        middle = len(A) / 2\n",
    "        for i in range(0, int(middle)):\n",
    "            left.append(A[i])\n",
    "        for i in range(int(middle), len(A)):\n",
    "            right.append(A[i])\n",
    "        left = mergeSort(left)\n",
    "        right = mergeSort(right)\n",
    "        return merge(left, right)"
   ]
  },
  {
   "cell_type": "code",
   "execution_count": 32,
   "metadata": {},
   "outputs": [],
   "source": [
    "def merge(left, right):\n",
    "    result = []\n",
    "    while len(left) > 0 and len(right) > 0:\n",
    "        if left[0] <= right[0]:\n",
    "            result.append(left[0])\n",
    "            del left[0]\n",
    "        else:\n",
    "            result.append(right[0])\n",
    "            del right[0]\n",
    "    if len(left) > 0:\n",
    "        for i in range(0, len(left)):\n",
    "            result.append(left[i])\n",
    "    if len(right) > 0:\n",
    "        for i in range(0, len(right)):\n",
    "            result.append(right[i])\n",
    "    return result"
   ]
  },
  {
   "cell_type": "code",
   "execution_count": 33,
   "metadata": {},
   "outputs": [
    {
     "name": "stdout",
     "output_type": "stream",
     "text": [
      "[10, 11, 22, 23, 25, 27, 34, 36]\n"
     ]
    }
   ],
   "source": [
    "list = [36, 25, 10, 23, 27, 34, 22, 11]\n",
    "print(mergeSort(list))"
   ]
  },
  {
   "cell_type": "code",
   "execution_count": null,
   "metadata": {},
   "outputs": [],
   "source": []
  },
  {
   "cell_type": "code",
   "execution_count": null,
   "metadata": {},
   "outputs": [],
   "source": []
  }
 ],
 "metadata": {
  "kernelspec": {
   "display_name": "Python 3",
   "language": "python",
   "name": "python3"
  },
  "language_info": {
   "codemirror_mode": {
    "name": "ipython",
    "version": 3
   },
   "file_extension": ".py",
   "mimetype": "text/x-python",
   "name": "python",
   "nbconvert_exporter": "python",
   "pygments_lexer": "ipython3",
   "version": "3.7.3"
  }
 },
 "nbformat": 4,
 "nbformat_minor": 4
}
