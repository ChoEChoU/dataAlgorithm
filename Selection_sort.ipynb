{
 "cells": [
  {
   "cell_type": "code",
   "execution_count": 2,
   "metadata": {},
   "outputs": [
    {
     "name": "stdout",
     "output_type": "stream",
     "text": [
      "[11, 12, 22, 25, 64]\n"
     ]
    }
   ],
   "source": [
    "array = [64, 25, 12, 22, 11]\n",
    "\n",
    "for border in range(0, len(array)-1):\n",
    "    min = border\n",
    "    for pointer in range(border+1, len(array)):\n",
    "        if array[min] > array[pointer]:\n",
    "            min = pointer\n",
    "    temp = array[border]\n",
    "    array[border] = array[min]\n",
    "    array[min] = temp\n",
    "  \n",
    "print(array)"
   ]
  }
 ],
 "metadata": {
  "kernelspec": {
   "display_name": "Python 3",
   "language": "python",
   "name": "python3"
  },
  "language_info": {
   "codemirror_mode": {
    "name": "ipython",
    "version": 3
   },
   "file_extension": ".py",
   "mimetype": "text/x-python",
   "name": "python",
   "nbconvert_exporter": "python",
   "pygments_lexer": "ipython3",
   "version": "3.7.3"
  }
 },
 "nbformat": 4,
 "nbformat_minor": 4
}
