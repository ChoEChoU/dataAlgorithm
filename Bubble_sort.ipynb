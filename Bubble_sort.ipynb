{
 "cells": [
  {
   "cell_type": "code",
   "execution_count": 5,
   "metadata": {},
   "outputs": [
    {
     "name": "stdout",
     "output_type": "stream",
     "text": [
      "[11, 12, 22, 25, 64]\n"
     ]
    }
   ],
   "source": [
    "def bubble_sort(array):\n",
    "    for i in range(0, len(array)-1):\n",
    "        flag = True\n",
    "        for j in range(0, len(array)-i-1):\n",
    "            if array[j] > array[j+1]:\n",
    "                temp = array[j+1]\n",
    "                array[j+1] = array[j]\n",
    "                array[j] = temp\n",
    "                flag = False\n",
    "        if flag == True:\n",
    "            break\n",
    "    return array\n",
    "\n",
    "array = [64, 25, 12, 22, 11]\n",
    "\n",
    "print(bubble_sort(array))"
   ]
  },
  {
   "cell_type": "code",
   "execution_count": null,
   "metadata": {},
   "outputs": [],
   "source": []
  }
 ],
 "metadata": {
  "kernelspec": {
   "display_name": "Python 3",
   "language": "python",
   "name": "python3"
  },
  "language_info": {
   "codemirror_mode": {
    "name": "ipython",
    "version": 3
   },
   "file_extension": ".py",
   "mimetype": "text/x-python",
   "name": "python",
   "nbconvert_exporter": "python",
   "pygments_lexer": "ipython3",
   "version": "3.7.3"
  }
 },
 "nbformat": 4,
 "nbformat_minor": 4
}
