{
 "cells": [
  {
   "cell_type": "code",
   "execution_count": null,
   "metadata": {},
   "outputs": [],
   "source": []
  },
  {
   "cell_type": "code",
   "execution_count": 1,
   "metadata": {
    "colab": {},
    "colab_type": "code",
    "id": "d3_B6MVW9DL5"
   },
   "outputs": [],
   "source": [
    "def selection_sort(array):\n",
    "  \n",
    "  for border in range(0, len(array)-1):\n",
    "    min = border\n",
    "    for pointer in range(border+1, len(array)):\n",
    "        if array[min] > array[pointer]:\n",
    "            min = pointer\n",
    "    temp = array[border]\n",
    "    array[border] = array[min]\n",
    "    array[min] = temp\n",
    "  \n",
    "  return array"
   ]
  },
  {
   "cell_type": "code",
   "execution_count": 2,
   "metadata": {
    "colab": {},
    "colab_type": "code",
    "id": "2MIshbnC9r9w"
   },
   "outputs": [],
   "source": [
    "def bubble_sort(array):\n",
    "  \n",
    "  for i in range(0, len(array)):\n",
    "        flag = True\n",
    "        for j in range(0, len(array)-i-1):\n",
    "            if array[j] > array[j+1]:\n",
    "                temp = array[j+1]\n",
    "                array[j+1] = array[j]\n",
    "                array[j] = temp\n",
    "                flag = False\n",
    "        if flag == True:\n",
    "            break\n",
    "  \n",
    "  return array"
   ]
  },
  {
   "cell_type": "code",
   "execution_count": 3,
   "metadata": {
    "colab": {},
    "colab_type": "code",
    "id": "qi0Sf_Nb9sHP"
   },
   "outputs": [],
   "source": [
    "def insertion_sort(array):\n",
    "  \n",
    "  for i in range(1, len(array)):\n",
    "        newMember = array[i]\n",
    "        tailIndex = i-1\n",
    "        while tailIndex >= 0 and newMember < array[tailIndex]:\n",
    "            array[tailIndex + 1] = array[tailIndex]\n",
    "            tailIndex = tailIndex - 1\n",
    "        array[tailIndex + 1] = newMember\n",
    "  \n",
    "  return array"
   ]
  },
  {
   "cell_type": "code",
   "execution_count": 4,
   "metadata": {},
   "outputs": [],
   "source": [
    "def mergeSort(A):\n",
    "    left = []\n",
    "    right = []\n",
    "    if len(A) <= 1:\n",
    "        return A\n",
    "    else:\n",
    "        middle = len(A) // 2\n",
    "        for i in range(0, middle):\n",
    "            left.append(A[i])\n",
    "        for i in range(int(middle), len(A)):\n",
    "            right.append(A[i])\n",
    "        left = mergeSort(left)\n",
    "        right = mergeSort(right)\n",
    "        return merge(left, right)\n",
    "    \n",
    "def merge(left, right):\n",
    "    result = []\n",
    "    while len(left) > 0 and len(right) > 0:\n",
    "        if left[0] <= right[0]:\n",
    "            result.append(left[0])\n",
    "            del left[0]\n",
    "        else:\n",
    "            result.append(right[0])\n",
    "            del right[0]\n",
    "    if len(left) > 0:\n",
    "        for i in range(0, len(left)):\n",
    "            result.append(left[i])\n",
    "    if len(right) > 0:\n",
    "        for i in range(0, len(right)):\n",
    "            result.append(right[i])\n",
    "    return result"
   ]
  },
  {
   "cell_type": "code",
   "execution_count": 5,
   "metadata": {
    "colab": {},
    "colab_type": "code",
    "id": "3YnVfmgn92QQ"
   },
   "outputs": [],
   "source": [
    "unordered = [64, 25, 12, 22, 11]"
   ]
  },
  {
   "cell_type": "code",
   "execution_count": 6,
   "metadata": {
    "colab": {},
    "colab_type": "code",
    "id": "LcE8tQTp9MZe"
   },
   "outputs": [
    {
     "name": "stdout",
     "output_type": "stream",
     "text": [
      "[selection sort result]\n"
     ]
    },
    {
     "data": {
      "text/plain": [
       "[11, 12, 22, 25, 64]"
      ]
     },
     "execution_count": 6,
     "metadata": {},
     "output_type": "execute_result"
    }
   ],
   "source": [
    "ordered = selection_sort(unordered.copy())\n",
    "print(\"[selection sort result]\")\n",
    "ordered"
   ]
  },
  {
   "cell_type": "code",
   "execution_count": 7,
   "metadata": {
    "colab": {},
    "colab_type": "code",
    "id": "ZpkSBY3G95Q4"
   },
   "outputs": [
    {
     "name": "stdout",
     "output_type": "stream",
     "text": [
      "[bubble sort result]\n"
     ]
    },
    {
     "data": {
      "text/plain": [
       "[11, 12, 22, 25, 64]"
      ]
     },
     "execution_count": 7,
     "metadata": {},
     "output_type": "execute_result"
    }
   ],
   "source": [
    "ordered = bubble_sort(unordered.copy())\n",
    "print(\"[bubble sort result]\")\n",
    "ordered"
   ]
  },
  {
   "cell_type": "code",
   "execution_count": 8,
   "metadata": {
    "colab": {},
    "colab_type": "code",
    "id": "7rSnLFay99Zo"
   },
   "outputs": [
    {
     "name": "stdout",
     "output_type": "stream",
     "text": [
      "[insertion sort result]\n"
     ]
    },
    {
     "data": {
      "text/plain": [
       "[11, 12, 22, 25, 64]"
      ]
     },
     "execution_count": 8,
     "metadata": {},
     "output_type": "execute_result"
    }
   ],
   "source": [
    "ordered = insertion_sort(unordered.copy())\n",
    "print(\"[insertion sort result]\")\n",
    "ordered"
   ]
  },
  {
   "cell_type": "code",
   "execution_count": 9,
   "metadata": {},
   "outputs": [
    {
     "name": "stdout",
     "output_type": "stream",
     "text": [
      "[merge sort result]\n"
     ]
    },
    {
     "data": {
      "text/plain": [
       "[11, 12, 22, 25, 64]"
      ]
     },
     "execution_count": 9,
     "metadata": {},
     "output_type": "execute_result"
    }
   ],
   "source": [
    "ordered = mergeSort(unordered.copy())\n",
    "print(\"[merge sort result]\")\n",
    "ordered"
   ]
  },
  {
   "cell_type": "code",
   "execution_count": 12,
   "metadata": {},
   "outputs": [
    {
     "name": "stdout",
     "output_type": "stream",
     "text": [
      "105.02809071540833\n",
      "0.7889316082000732\n"
     ]
    }
   ],
   "source": [
    "import random\n",
    "import time\n",
    "\n",
    "n = 20000\n",
    "\n",
    "undered = []\n",
    "for i in range(0, n):\n",
    "    num = random.randint(1, n)\n",
    "    unordered.append(num)\n",
    "    \n",
    "start = time.time()\n",
    "insertion_sort(unordered.copy())\n",
    "end = time.time()\n",
    "print(end-start)\n",
    "\n",
    "start = time.time()\n",
    "mergeSort(unordered.copy())\n",
    "end = time.time()\n",
    "print(end-start)"
   ]
  },
  {
   "cell_type": "code",
   "execution_count": null,
   "metadata": {},
   "outputs": [],
   "source": []
  },
  {
   "cell_type": "code",
   "execution_count": null,
   "metadata": {},
   "outputs": [],
   "source": []
  }
 ],
 "metadata": {
  "colab": {
   "collapsed_sections": [],
   "name": "Basic_sort.ipynb",
   "provenance": []
  },
  "kernelspec": {
   "display_name": "Python 3",
   "language": "python",
   "name": "python3"
  },
  "language_info": {
   "codemirror_mode": {
    "name": "ipython",
    "version": 3
   },
   "file_extension": ".py",
   "mimetype": "text/x-python",
   "name": "python",
   "nbconvert_exporter": "python",
   "pygments_lexer": "ipython3",
   "version": "3.7.3"
  }
 },
 "nbformat": 4,
 "nbformat_minor": 4
}
