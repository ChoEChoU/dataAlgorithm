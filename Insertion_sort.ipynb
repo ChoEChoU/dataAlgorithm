{
 "cells": [
  {
   "cell_type": "code",
   "execution_count": 2,
   "metadata": {},
   "outputs": [
    {
     "name": "stdout",
     "output_type": "stream",
     "text": [
      "[64, 11, 12, 22, 25]\n"
     ]
    }
   ],
   "source": [
    "def insertion_sort(array):\n",
    "    for i in range(1, len(array)):\n",
    "        newMember = array[i]\n",
    "        tailIndex = i-1\n",
    "        while tailIndex >= 1 and newMember < array[tailIndex]:\n",
    "            array[tailIndex + 1] = array[tailIndex]\n",
    "            tailIndex = tailIndex - 1\n",
    "        array[tailIndex + 1] = newMember\n",
    "    return array\n",
    "\n",
    "array = [64, 25, 12, 22, 11]\n",
    "\n",
    "print(insertion_sort(array))"
   ]
  },
  {
   "cell_type": "code",
   "execution_count": null,
   "metadata": {},
   "outputs": [],
   "source": []
  }
 ],
 "metadata": {
  "kernelspec": {
   "display_name": "Python 3",
   "language": "python",
   "name": "python3"
  },
  "language_info": {
   "codemirror_mode": {
    "name": "ipython",
    "version": 3
   },
   "file_extension": ".py",
   "mimetype": "text/x-python",
   "name": "python",
   "nbconvert_exporter": "python",
   "pygments_lexer": "ipython3",
   "version": "3.7.3"
  }
 },
 "nbformat": 4,
 "nbformat_minor": 4
}
